{
 "cells": [
  {
   "cell_type": "code",
   "execution_count": 8,
   "metadata": {
    "collapsed": true
   },
   "outputs": [],
   "source": [
    "import pandas as pd\n",
    "import altair as alt\n",
    "import numpy as np"
   ]
  },
  {
   "cell_type": "code",
   "execution_count": 9,
   "outputs": [],
   "source": [
    "#https://uwdata.github.io/visualization-curriculum/altair_introduction.html"
   ],
   "metadata": {
    "collapsed": false
   }
  },
  {
   "cell_type": "code",
   "execution_count": 10,
   "outputs": [],
   "source": [
    "url = 'https://raw.githubusercontent.com/xh0417/IV_group63/main/europe_covid.csv'\n",
    "data = pd.read_csv(url)\n",
    "data = data[data.Country != 'Gibraltar']\n",
    "data = data[data.Country != 'Austria']\n",
    "data = data[data.Country != 'Denmark']\n",
    "data = data[data.Country != 'Faeroe Islands']"
   ],
   "metadata": {
    "collapsed": false
   }
  },
  {
   "cell_type": "code",
   "execution_count": 11,
   "outputs": [],
   "source": [
    "data[\"Recovered Per\"] = data[\"Total Recovered\"] * 100 / data[\"Population\"]\n",
    "data[\"Test Per\"] = data[\"Total Tests\"] * 100 / data[\"Population\"]"
   ],
   "metadata": {
    "collapsed": false
   }
  },
  {
   "cell_type": "code",
   "execution_count": 12,
   "outputs": [
    {
     "data": {
      "text/plain": "                   Country  Total Cases  Total Deaths  Total Recovered  \\\n0                  Albania       334084          3595         328802.0   \n1                  Andorra        47781           165          47563.0   \n3                  Belarus       994037          7118         985592.0   \n4                  Belgium      4686147         33478        4631003.0   \n5   Bosnia and Herzegovina       401232         16244         378996.0   \n6                 Bulgaria      1294604         38154        1253005.0   \n7          Channel Islands       100846           220         100278.0   \n8                  Croatia      1266749         17790        1247874.0   \n9                  Czechia      4586086         42269        4537555.0   \n11                 Estonia       613206          2896         524990.0   \n13                 Finland      1449824          8557        1433382.0   \n14                  France     39467281        163644       39106729.0   \n15                 Germany     37649808        164391       37169700.0   \n17                  Greece      5548487         34779        5513708.0   \n18                 Hungary      2191200         48629        2133974.0   \n19                 Iceland       208539           229              NaN   \n20                 Ireland      1699347          8431        1678684.0   \n21             Isle of Man        38008           116              NaN   \n22                   Italy     25363742        185993       24824106.0   \n23                  Latvia       975035          6203         968291.0   \n24           Liechtenstein        21319            88          21211.0   \n25               Lithuania      1293703          9525        1278440.0   \n26              Luxembourg       297757          1133         288991.0   \n27                   Malta       116882           822         115325.0   \n28                 Moldova       597598         11947         504142.0   \n29                  Monaco        16040            65          15951.0   \n30              Montenegro       285773          2794         282452.0   \n31             Netherlands      8578818         22989        8534990.0   \n32         North Macedonia       346297          9633         336460.0   \n33                  Norway      1477205          4571        1470825.0   \n34                  Poland      6374645        118675        5335940.0   \n35                Portugal      5557941         25805        5529271.0   \n36                 Romania      3319680         67504        3244581.0   \n37                  Russia     21876336        394569       21293221.0   \n38              San Marino        23290           121          23034.0   \n39                  Serbia      2462353         17630        2428623.0   \n40                Slovakia      1860315         20894        1838674.0   \n41                Slovenia      1318939          7039        1303847.0   \n42                   Spain     13711251        117759       13522850.0   \n43                  Sweden      2687840         22610        2637324.0   \n44             Switzerland      4384899         14451        4352143.0   \n45                      UK     24243393        202157       23949907.0   \n46                 Ukraine      5364322        110920        5247508.0   \n\n    Active Cases  Tot Cases/ 1M pop  Deaths/ 1M pop  Total Tests  \\\n0         1687.0             116553            1254      1941032   \n1           53.0             616824            2130       249838   \n3         1327.0             105381             755     13646641   \n4        21666.0             401614            2869     36481740   \n5         5992.0             123482            4999      1883616   \n6         3445.0             189142            5574     10952860   \n7          348.0             571485            1247      1252808   \n8         1085.0             312062            4383      5457095   \n9         6262.0             427138            3937     56853138   \n11       85320.0             463879            2191      3648199   \n13        7885.0             260996            1540     12007701   \n14      196908.0             601777            2495    271490188   \n15      315717.0             448834            1960    122332384   \n17           0.0             537819            3371    102228365   \n18        8597.0             228101            5062     11394556   \n19           NaN             603773             663      1996384   \n20       12232.0             338502            1679     12962679   \n21           NaN             443335            1353       150753   \n22      353643.0             420886            3086    264182282   \n23         541.0             527377            3355      7854953   \n24          20.0             555370            2292       112457   \n25        5738.0             486042            3579     10337843   \n26        7633.0             463528            1764      4412567   \n27         735.0             263228            1851      2105916   \n28       81509.0             148909            2977      3216305   \n29          24.0             403187            1634        78646   \n30         527.0             455089            4449      2690571   \n31       20839.0             498437            1336     25984435   \n32         204.0             166385            4628      2213883   \n33        1809.0             268029             829     11002430   \n34      920030.0             168910            3145     38070118   \n35        2865.0             548090            2545     45879317   \n36        7595.0             174432            3547     26244526   \n37      188546.0             150037            2706    273400000   \n38         135.0             683292            3550       157634   \n39       16100.0             284566            2037     12040278   \n40         747.0             340705            3827      7384670   \n41        8053.0             634705            3387      2818352   \n42       70642.0             293483            2521    471036328   \n43       27906.0             263025            2213     19369173   \n44       18305.0             499781            1647     23318743   \n45       91329.0             353929            2951    522526476   \n46        5894.0             124197            2568     32603805   \n\n    Tests/ 1M pop  Population  Recovered Per     Test Per  \n0          677173     2866374      11.471008    67.717332  \n1         3225256       77463      61.400927   322.525593  \n3         1446722     9432800      10.448562   144.672218  \n4         3126574    11668278      39.688830   312.657446  \n5          579696     3249317      11.663867    57.969598  \n6         1600220     6844597      18.306483   160.021985  \n7         7099551      176463      56.826644   709.955061  \n8         1344348     4059286      30.741219   134.434849  \n9         5295174    10736784      42.261770   529.517386  \n11        2759794     1321910      39.714504   275.979378  \n13        2161618     5554960      25.803642   216.161791  \n14        4139547    65584518      59.627989   413.954690  \n15        1458359    83883596      44.311047   145.835884  \n17        9909078    10316637      53.444819   990.907841  \n18        1186160     9606259      22.214412   118.615957  \n19        5780036      345393            NaN   578.003607  \n20        2582105     5020199      33.438595   258.210461  \n21        1758422       85732            NaN   175.842159  \n22        4383839    60262770      41.193105   438.383901  \n23        4248591     1848837      52.372978   424.859141  \n24        2929559       38387      55.255686   292.955949  \n25        3883913     2661708      48.030813   388.391326  \n26        6869188      642371      44.988177   686.918774  \n27        4742702      444033      25.972169   474.270156  \n28         801437     4013171      12.562186    80.143732  \n29        1976875       39783      40.095015   197.687454  \n30        4284690      627950      44.980014   428.468986  \n31        1509718    17211447      49.589032   150.971821  \n32        1063700     2081304      16.165827   106.369997  \n33        1996315     5511370      26.687103   199.631489  \n34        1008753    37739785      14.138766   100.875291  \n35        4524333    10140570      54.526235   452.433315  \n36        1379017    19031335      17.048625   137.901655  \n37        1875095   145805947      14.603808   187.509498  \n38        4624732       34085      67.578114   462.473229  \n39        1391454     8653016      28.066780   139.145449  \n40        1352456     5460193      33.674158   135.245586  \n41        1356259     2078034      62.744257   135.625885  \n42       10082298    46719142      28.944988  1008.229834  \n43        1895413    10218971      25.808117   189.541325  \n44        2657819     8773637      49.604776   265.781944  \n45        7628357    68497907      34.964436   762.835682  \n46         754855    43192122      12.149225    75.485536  ",
      "text/html": "<div>\n<style scoped>\n    .dataframe tbody tr th:only-of-type {\n        vertical-align: middle;\n    }\n\n    .dataframe tbody tr th {\n        vertical-align: top;\n    }\n\n    .dataframe thead th {\n        text-align: right;\n    }\n</style>\n<table border=\"1\" class=\"dataframe\">\n  <thead>\n    <tr style=\"text-align: right;\">\n      <th></th>\n      <th>Country</th>\n      <th>Total Cases</th>\n      <th>Total Deaths</th>\n      <th>Total Recovered</th>\n      <th>Active Cases</th>\n      <th>Tot Cases/ 1M pop</th>\n      <th>Deaths/ 1M pop</th>\n      <th>Total Tests</th>\n      <th>Tests/ 1M pop</th>\n      <th>Population</th>\n      <th>Recovered Per</th>\n      <th>Test Per</th>\n    </tr>\n  </thead>\n  <tbody>\n    <tr>\n      <th>0</th>\n      <td>Albania</td>\n      <td>334084</td>\n      <td>3595</td>\n      <td>328802.0</td>\n      <td>1687.0</td>\n      <td>116553</td>\n      <td>1254</td>\n      <td>1941032</td>\n      <td>677173</td>\n      <td>2866374</td>\n      <td>11.471008</td>\n      <td>67.717332</td>\n    </tr>\n    <tr>\n      <th>1</th>\n      <td>Andorra</td>\n      <td>47781</td>\n      <td>165</td>\n      <td>47563.0</td>\n      <td>53.0</td>\n      <td>616824</td>\n      <td>2130</td>\n      <td>249838</td>\n      <td>3225256</td>\n      <td>77463</td>\n      <td>61.400927</td>\n      <td>322.525593</td>\n    </tr>\n    <tr>\n      <th>3</th>\n      <td>Belarus</td>\n      <td>994037</td>\n      <td>7118</td>\n      <td>985592.0</td>\n      <td>1327.0</td>\n      <td>105381</td>\n      <td>755</td>\n      <td>13646641</td>\n      <td>1446722</td>\n      <td>9432800</td>\n      <td>10.448562</td>\n      <td>144.672218</td>\n    </tr>\n    <tr>\n      <th>4</th>\n      <td>Belgium</td>\n      <td>4686147</td>\n      <td>33478</td>\n      <td>4631003.0</td>\n      <td>21666.0</td>\n      <td>401614</td>\n      <td>2869</td>\n      <td>36481740</td>\n      <td>3126574</td>\n      <td>11668278</td>\n      <td>39.688830</td>\n      <td>312.657446</td>\n    </tr>\n    <tr>\n      <th>5</th>\n      <td>Bosnia and Herzegovina</td>\n      <td>401232</td>\n      <td>16244</td>\n      <td>378996.0</td>\n      <td>5992.0</td>\n      <td>123482</td>\n      <td>4999</td>\n      <td>1883616</td>\n      <td>579696</td>\n      <td>3249317</td>\n      <td>11.663867</td>\n      <td>57.969598</td>\n    </tr>\n    <tr>\n      <th>6</th>\n      <td>Bulgaria</td>\n      <td>1294604</td>\n      <td>38154</td>\n      <td>1253005.0</td>\n      <td>3445.0</td>\n      <td>189142</td>\n      <td>5574</td>\n      <td>10952860</td>\n      <td>1600220</td>\n      <td>6844597</td>\n      <td>18.306483</td>\n      <td>160.021985</td>\n    </tr>\n    <tr>\n      <th>7</th>\n      <td>Channel Islands</td>\n      <td>100846</td>\n      <td>220</td>\n      <td>100278.0</td>\n      <td>348.0</td>\n      <td>571485</td>\n      <td>1247</td>\n      <td>1252808</td>\n      <td>7099551</td>\n      <td>176463</td>\n      <td>56.826644</td>\n      <td>709.955061</td>\n    </tr>\n    <tr>\n      <th>8</th>\n      <td>Croatia</td>\n      <td>1266749</td>\n      <td>17790</td>\n      <td>1247874.0</td>\n      <td>1085.0</td>\n      <td>312062</td>\n      <td>4383</td>\n      <td>5457095</td>\n      <td>1344348</td>\n      <td>4059286</td>\n      <td>30.741219</td>\n      <td>134.434849</td>\n    </tr>\n    <tr>\n      <th>9</th>\n      <td>Czechia</td>\n      <td>4586086</td>\n      <td>42269</td>\n      <td>4537555.0</td>\n      <td>6262.0</td>\n      <td>427138</td>\n      <td>3937</td>\n      <td>56853138</td>\n      <td>5295174</td>\n      <td>10736784</td>\n      <td>42.261770</td>\n      <td>529.517386</td>\n    </tr>\n    <tr>\n      <th>11</th>\n      <td>Estonia</td>\n      <td>613206</td>\n      <td>2896</td>\n      <td>524990.0</td>\n      <td>85320.0</td>\n      <td>463879</td>\n      <td>2191</td>\n      <td>3648199</td>\n      <td>2759794</td>\n      <td>1321910</td>\n      <td>39.714504</td>\n      <td>275.979378</td>\n    </tr>\n    <tr>\n      <th>13</th>\n      <td>Finland</td>\n      <td>1449824</td>\n      <td>8557</td>\n      <td>1433382.0</td>\n      <td>7885.0</td>\n      <td>260996</td>\n      <td>1540</td>\n      <td>12007701</td>\n      <td>2161618</td>\n      <td>5554960</td>\n      <td>25.803642</td>\n      <td>216.161791</td>\n    </tr>\n    <tr>\n      <th>14</th>\n      <td>France</td>\n      <td>39467281</td>\n      <td>163644</td>\n      <td>39106729.0</td>\n      <td>196908.0</td>\n      <td>601777</td>\n      <td>2495</td>\n      <td>271490188</td>\n      <td>4139547</td>\n      <td>65584518</td>\n      <td>59.627989</td>\n      <td>413.954690</td>\n    </tr>\n    <tr>\n      <th>15</th>\n      <td>Germany</td>\n      <td>37649808</td>\n      <td>164391</td>\n      <td>37169700.0</td>\n      <td>315717.0</td>\n      <td>448834</td>\n      <td>1960</td>\n      <td>122332384</td>\n      <td>1458359</td>\n      <td>83883596</td>\n      <td>44.311047</td>\n      <td>145.835884</td>\n    </tr>\n    <tr>\n      <th>17</th>\n      <td>Greece</td>\n      <td>5548487</td>\n      <td>34779</td>\n      <td>5513708.0</td>\n      <td>0.0</td>\n      <td>537819</td>\n      <td>3371</td>\n      <td>102228365</td>\n      <td>9909078</td>\n      <td>10316637</td>\n      <td>53.444819</td>\n      <td>990.907841</td>\n    </tr>\n    <tr>\n      <th>18</th>\n      <td>Hungary</td>\n      <td>2191200</td>\n      <td>48629</td>\n      <td>2133974.0</td>\n      <td>8597.0</td>\n      <td>228101</td>\n      <td>5062</td>\n      <td>11394556</td>\n      <td>1186160</td>\n      <td>9606259</td>\n      <td>22.214412</td>\n      <td>118.615957</td>\n    </tr>\n    <tr>\n      <th>19</th>\n      <td>Iceland</td>\n      <td>208539</td>\n      <td>229</td>\n      <td>NaN</td>\n      <td>NaN</td>\n      <td>603773</td>\n      <td>663</td>\n      <td>1996384</td>\n      <td>5780036</td>\n      <td>345393</td>\n      <td>NaN</td>\n      <td>578.003607</td>\n    </tr>\n    <tr>\n      <th>20</th>\n      <td>Ireland</td>\n      <td>1699347</td>\n      <td>8431</td>\n      <td>1678684.0</td>\n      <td>12232.0</td>\n      <td>338502</td>\n      <td>1679</td>\n      <td>12962679</td>\n      <td>2582105</td>\n      <td>5020199</td>\n      <td>33.438595</td>\n      <td>258.210461</td>\n    </tr>\n    <tr>\n      <th>21</th>\n      <td>Isle of Man</td>\n      <td>38008</td>\n      <td>116</td>\n      <td>NaN</td>\n      <td>NaN</td>\n      <td>443335</td>\n      <td>1353</td>\n      <td>150753</td>\n      <td>1758422</td>\n      <td>85732</td>\n      <td>NaN</td>\n      <td>175.842159</td>\n    </tr>\n    <tr>\n      <th>22</th>\n      <td>Italy</td>\n      <td>25363742</td>\n      <td>185993</td>\n      <td>24824106.0</td>\n      <td>353643.0</td>\n      <td>420886</td>\n      <td>3086</td>\n      <td>264182282</td>\n      <td>4383839</td>\n      <td>60262770</td>\n      <td>41.193105</td>\n      <td>438.383901</td>\n    </tr>\n    <tr>\n      <th>23</th>\n      <td>Latvia</td>\n      <td>975035</td>\n      <td>6203</td>\n      <td>968291.0</td>\n      <td>541.0</td>\n      <td>527377</td>\n      <td>3355</td>\n      <td>7854953</td>\n      <td>4248591</td>\n      <td>1848837</td>\n      <td>52.372978</td>\n      <td>424.859141</td>\n    </tr>\n    <tr>\n      <th>24</th>\n      <td>Liechtenstein</td>\n      <td>21319</td>\n      <td>88</td>\n      <td>21211.0</td>\n      <td>20.0</td>\n      <td>555370</td>\n      <td>2292</td>\n      <td>112457</td>\n      <td>2929559</td>\n      <td>38387</td>\n      <td>55.255686</td>\n      <td>292.955949</td>\n    </tr>\n    <tr>\n      <th>25</th>\n      <td>Lithuania</td>\n      <td>1293703</td>\n      <td>9525</td>\n      <td>1278440.0</td>\n      <td>5738.0</td>\n      <td>486042</td>\n      <td>3579</td>\n      <td>10337843</td>\n      <td>3883913</td>\n      <td>2661708</td>\n      <td>48.030813</td>\n      <td>388.391326</td>\n    </tr>\n    <tr>\n      <th>26</th>\n      <td>Luxembourg</td>\n      <td>297757</td>\n      <td>1133</td>\n      <td>288991.0</td>\n      <td>7633.0</td>\n      <td>463528</td>\n      <td>1764</td>\n      <td>4412567</td>\n      <td>6869188</td>\n      <td>642371</td>\n      <td>44.988177</td>\n      <td>686.918774</td>\n    </tr>\n    <tr>\n      <th>27</th>\n      <td>Malta</td>\n      <td>116882</td>\n      <td>822</td>\n      <td>115325.0</td>\n      <td>735.0</td>\n      <td>263228</td>\n      <td>1851</td>\n      <td>2105916</td>\n      <td>4742702</td>\n      <td>444033</td>\n      <td>25.972169</td>\n      <td>474.270156</td>\n    </tr>\n    <tr>\n      <th>28</th>\n      <td>Moldova</td>\n      <td>597598</td>\n      <td>11947</td>\n      <td>504142.0</td>\n      <td>81509.0</td>\n      <td>148909</td>\n      <td>2977</td>\n      <td>3216305</td>\n      <td>801437</td>\n      <td>4013171</td>\n      <td>12.562186</td>\n      <td>80.143732</td>\n    </tr>\n    <tr>\n      <th>29</th>\n      <td>Monaco</td>\n      <td>16040</td>\n      <td>65</td>\n      <td>15951.0</td>\n      <td>24.0</td>\n      <td>403187</td>\n      <td>1634</td>\n      <td>78646</td>\n      <td>1976875</td>\n      <td>39783</td>\n      <td>40.095015</td>\n      <td>197.687454</td>\n    </tr>\n    <tr>\n      <th>30</th>\n      <td>Montenegro</td>\n      <td>285773</td>\n      <td>2794</td>\n      <td>282452.0</td>\n      <td>527.0</td>\n      <td>455089</td>\n      <td>4449</td>\n      <td>2690571</td>\n      <td>4284690</td>\n      <td>627950</td>\n      <td>44.980014</td>\n      <td>428.468986</td>\n    </tr>\n    <tr>\n      <th>31</th>\n      <td>Netherlands</td>\n      <td>8578818</td>\n      <td>22989</td>\n      <td>8534990.0</td>\n      <td>20839.0</td>\n      <td>498437</td>\n      <td>1336</td>\n      <td>25984435</td>\n      <td>1509718</td>\n      <td>17211447</td>\n      <td>49.589032</td>\n      <td>150.971821</td>\n    </tr>\n    <tr>\n      <th>32</th>\n      <td>North Macedonia</td>\n      <td>346297</td>\n      <td>9633</td>\n      <td>336460.0</td>\n      <td>204.0</td>\n      <td>166385</td>\n      <td>4628</td>\n      <td>2213883</td>\n      <td>1063700</td>\n      <td>2081304</td>\n      <td>16.165827</td>\n      <td>106.369997</td>\n    </tr>\n    <tr>\n      <th>33</th>\n      <td>Norway</td>\n      <td>1477205</td>\n      <td>4571</td>\n      <td>1470825.0</td>\n      <td>1809.0</td>\n      <td>268029</td>\n      <td>829</td>\n      <td>11002430</td>\n      <td>1996315</td>\n      <td>5511370</td>\n      <td>26.687103</td>\n      <td>199.631489</td>\n    </tr>\n    <tr>\n      <th>34</th>\n      <td>Poland</td>\n      <td>6374645</td>\n      <td>118675</td>\n      <td>5335940.0</td>\n      <td>920030.0</td>\n      <td>168910</td>\n      <td>3145</td>\n      <td>38070118</td>\n      <td>1008753</td>\n      <td>37739785</td>\n      <td>14.138766</td>\n      <td>100.875291</td>\n    </tr>\n    <tr>\n      <th>35</th>\n      <td>Portugal</td>\n      <td>5557941</td>\n      <td>25805</td>\n      <td>5529271.0</td>\n      <td>2865.0</td>\n      <td>548090</td>\n      <td>2545</td>\n      <td>45879317</td>\n      <td>4524333</td>\n      <td>10140570</td>\n      <td>54.526235</td>\n      <td>452.433315</td>\n    </tr>\n    <tr>\n      <th>36</th>\n      <td>Romania</td>\n      <td>3319680</td>\n      <td>67504</td>\n      <td>3244581.0</td>\n      <td>7595.0</td>\n      <td>174432</td>\n      <td>3547</td>\n      <td>26244526</td>\n      <td>1379017</td>\n      <td>19031335</td>\n      <td>17.048625</td>\n      <td>137.901655</td>\n    </tr>\n    <tr>\n      <th>37</th>\n      <td>Russia</td>\n      <td>21876336</td>\n      <td>394569</td>\n      <td>21293221.0</td>\n      <td>188546.0</td>\n      <td>150037</td>\n      <td>2706</td>\n      <td>273400000</td>\n      <td>1875095</td>\n      <td>145805947</td>\n      <td>14.603808</td>\n      <td>187.509498</td>\n    </tr>\n    <tr>\n      <th>38</th>\n      <td>San Marino</td>\n      <td>23290</td>\n      <td>121</td>\n      <td>23034.0</td>\n      <td>135.0</td>\n      <td>683292</td>\n      <td>3550</td>\n      <td>157634</td>\n      <td>4624732</td>\n      <td>34085</td>\n      <td>67.578114</td>\n      <td>462.473229</td>\n    </tr>\n    <tr>\n      <th>39</th>\n      <td>Serbia</td>\n      <td>2462353</td>\n      <td>17630</td>\n      <td>2428623.0</td>\n      <td>16100.0</td>\n      <td>284566</td>\n      <td>2037</td>\n      <td>12040278</td>\n      <td>1391454</td>\n      <td>8653016</td>\n      <td>28.066780</td>\n      <td>139.145449</td>\n    </tr>\n    <tr>\n      <th>40</th>\n      <td>Slovakia</td>\n      <td>1860315</td>\n      <td>20894</td>\n      <td>1838674.0</td>\n      <td>747.0</td>\n      <td>340705</td>\n      <td>3827</td>\n      <td>7384670</td>\n      <td>1352456</td>\n      <td>5460193</td>\n      <td>33.674158</td>\n      <td>135.245586</td>\n    </tr>\n    <tr>\n      <th>41</th>\n      <td>Slovenia</td>\n      <td>1318939</td>\n      <td>7039</td>\n      <td>1303847.0</td>\n      <td>8053.0</td>\n      <td>634705</td>\n      <td>3387</td>\n      <td>2818352</td>\n      <td>1356259</td>\n      <td>2078034</td>\n      <td>62.744257</td>\n      <td>135.625885</td>\n    </tr>\n    <tr>\n      <th>42</th>\n      <td>Spain</td>\n      <td>13711251</td>\n      <td>117759</td>\n      <td>13522850.0</td>\n      <td>70642.0</td>\n      <td>293483</td>\n      <td>2521</td>\n      <td>471036328</td>\n      <td>10082298</td>\n      <td>46719142</td>\n      <td>28.944988</td>\n      <td>1008.229834</td>\n    </tr>\n    <tr>\n      <th>43</th>\n      <td>Sweden</td>\n      <td>2687840</td>\n      <td>22610</td>\n      <td>2637324.0</td>\n      <td>27906.0</td>\n      <td>263025</td>\n      <td>2213</td>\n      <td>19369173</td>\n      <td>1895413</td>\n      <td>10218971</td>\n      <td>25.808117</td>\n      <td>189.541325</td>\n    </tr>\n    <tr>\n      <th>44</th>\n      <td>Switzerland</td>\n      <td>4384899</td>\n      <td>14451</td>\n      <td>4352143.0</td>\n      <td>18305.0</td>\n      <td>499781</td>\n      <td>1647</td>\n      <td>23318743</td>\n      <td>2657819</td>\n      <td>8773637</td>\n      <td>49.604776</td>\n      <td>265.781944</td>\n    </tr>\n    <tr>\n      <th>45</th>\n      <td>UK</td>\n      <td>24243393</td>\n      <td>202157</td>\n      <td>23949907.0</td>\n      <td>91329.0</td>\n      <td>353929</td>\n      <td>2951</td>\n      <td>522526476</td>\n      <td>7628357</td>\n      <td>68497907</td>\n      <td>34.964436</td>\n      <td>762.835682</td>\n    </tr>\n    <tr>\n      <th>46</th>\n      <td>Ukraine</td>\n      <td>5364322</td>\n      <td>110920</td>\n      <td>5247508.0</td>\n      <td>5894.0</td>\n      <td>124197</td>\n      <td>2568</td>\n      <td>32603805</td>\n      <td>754855</td>\n      <td>43192122</td>\n      <td>12.149225</td>\n      <td>75.485536</td>\n    </tr>\n  </tbody>\n</table>\n</div>"
     },
     "execution_count": 12,
     "metadata": {},
     "output_type": "execute_result"
    }
   ],
   "source": [
    "data"
   ],
   "metadata": {
    "collapsed": false
   }
  },
  {
   "cell_type": "code",
   "execution_count": 16,
   "outputs": [],
   "source": [
    "bar = alt.Chart(data).mark_circle().encode(alt.Y('Recovered Per', bin=True), alt.X('Test Per', bin=True), alt.Size('count()')).interactive()\n",
    "bar.save('bar1.html')"
   ],
   "metadata": {
    "collapsed": false
   }
  },
  {
   "cell_type": "code",
   "execution_count": 17,
   "outputs": [],
   "source": [
    "bar = alt.Chart(data).mark_bar().encode(alt.Y('Recovered Per', bin=True), alt.X('Test Per', bin=True), alt.Color('count()')).interactive()\n",
    "bar.save('bar2.html')"
   ],
   "metadata": {
    "collapsed": false
   }
  },
  {
   "cell_type": "code",
   "execution_count": 18,
   "outputs": [],
   "source": [
    "bar = alt.Chart(data).mark_circle().encode(alt.Y('Recovered Per'), alt.X('Test Per')).interactive()\n",
    "bar.save('bar3.html')"
   ],
   "metadata": {
    "collapsed": false
   }
  }
 ],
 "metadata": {
  "kernelspec": {
   "display_name": "Python 3",
   "language": "python",
   "name": "python3"
  },
  "language_info": {
   "codemirror_mode": {
    "name": "ipython",
    "version": 2
   },
   "file_extension": ".py",
   "mimetype": "text/x-python",
   "name": "python",
   "nbconvert_exporter": "python",
   "pygments_lexer": "ipython2",
   "version": "2.7.6"
  }
 },
 "nbformat": 4,
 "nbformat_minor": 0
}
