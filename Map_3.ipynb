{
 "cells": [
  {
   "cell_type": "code",
   "execution_count": 10,
   "metadata": {
    "collapsed": true
   },
   "outputs": [],
   "source": [
    "import pandas as pd\n",
    "import altair as alt\n",
    "import geopandas as gpd"
   ]
  },
  {
   "cell_type": "code",
   "execution_count": 11,
   "outputs": [],
   "source": [
    "# load data and preprocess\n",
    "url = 'https://raw.githubusercontent.com/xh0417/IV_group63/main/europe_covid.csv'\n",
    "data = pd.read_csv(url)\n",
    "data = data[data.Country != 'Channel Islands']\n",
    "data = data[data.Country != 'Gibraltar']\n",
    "data = data[data.Country != 'Isle of Man']\n",
    "data.replace(['UK'], ['United Kingdom'], inplace=True)\n",
    "data.replace(['Czechia'], ['Czech Republic'], inplace=True)\n",
    "data.replace(['Faeroe Islands'], ['Faroe Islands'], inplace=True)\n",
    "data.replace(['Moldova'], ['Republic of Moldova'], inplace=True)\n",
    "data.replace(['North Macedonia'], ['The former Yugoslav Republic of Macedonia'], inplace=True)\n",
    "\n",
    "data['Death - Total'] = '0-100'\n",
    "data.loc[data['Total Deaths'] > 100, 'Death - Total'] = '100-1000'\n",
    "data.loc[data['Total Deaths'] > 1000, 'Death - Total'] = '1000-10000'\n",
    "data.loc[data['Total Deaths'] > 10000, 'Death - Total'] = '10000-100000'\n",
    "data.loc[data['Total Deaths'] > 100000, 'Death - Total'] = '100000-200000'\n",
    "data.loc[data['Total Deaths'] > 200000, 'Death - Total'] = '>200000'\n",
    "\n",
    "# load EU map data\n",
    "eu_data = gpd.read_file('https://raw.githubusercontent.com/xh0417/IV_group63/main/europe.geojson')"
   ],
   "metadata": {
    "collapsed": false
   }
  },
  {
   "cell_type": "code",
   "execution_count": 12,
   "outputs": [],
   "source": [
    "chart = alt.Chart(eu_data, width=1040, height=640).mark_geoshape().encode(\n",
    "    alt.Color('Death - Total:N', scale=alt.Scale(domain=['0-100', '100-1000', '1000-10000', '10000-100000','100000-200000','>200000'], range=['#FCEEC6', '#D9A98B', '#D49166', '#C96B35','#AE5B2C','#8E4922'])),\n",
    "    tooltip = ['NAME', 'Active Cases:Q', 'Total Cases:Q','Total Deaths:Q','Total Recovered:Q'],\n",
    ").project(\n",
    "    'naturalEarth1'\n",
    ").transform_lookup(\n",
    "    lookup='NAME',\n",
    "    from_=alt.LookupData(data, 'Country', ['Active Cases','Total Cases','Total Deaths','Total Recovered','Death - Total'])\n",
    ")\n",
    "chart.save('Death - Total.html')"
   ],
   "metadata": {
    "collapsed": false
   }
  }
 ],
 "metadata": {
  "kernelspec": {
   "display_name": "Python 3",
   "language": "python",
   "name": "python3"
  },
  "language_info": {
   "codemirror_mode": {
    "name": "ipython",
    "version": 2
   },
   "file_extension": ".py",
   "mimetype": "text/x-python",
   "name": "python",
   "nbconvert_exporter": "python",
   "pygments_lexer": "ipython2",
   "version": "2.7.6"
  }
 },
 "nbformat": 4,
 "nbformat_minor": 0
}
