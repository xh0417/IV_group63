{
 "cells": [
  {
   "cell_type": "code",
   "execution_count": 12,
   "metadata": {
    "collapsed": true
   },
   "outputs": [],
   "source": [
    "import pandas as pd\n",
    "import altair as alt\n",
    "import geopandas as gpd"
   ]
  },
  {
   "cell_type": "code",
   "execution_count": 13,
   "outputs": [],
   "source": [
    "# load data and preprocess\n",
    "url = 'https://raw.githubusercontent.com/xh0417/IV_group63/main/europe_covid.csv'\n",
    "data = pd.read_csv(url)\n",
    "data = data[data.Country != 'Channel Islands']\n",
    "data = data[data.Country != 'Gibraltar']\n",
    "data = data[data.Country != 'Isle of Man']\n",
    "data.replace(['UK'], ['United Kingdom'], inplace=True)\n",
    "data.replace(['Czechia'], ['Czech Republic'], inplace=True)\n",
    "data.replace(['Faeroe Islands'], ['Faroe Islands'], inplace=True)\n",
    "data.replace(['Moldova'], ['Republic of Moldova'], inplace=True)\n",
    "data.replace(['North Macedonia'], ['The former Yugoslav Republic of Macedonia'], inplace=True)"
   ],
   "metadata": {
    "collapsed": false
   }
  },
  {
   "cell_type": "code",
   "execution_count": 14,
   "outputs": [
    {
     "name": "stdout",
     "output_type": "stream",
     "text": [
      "Unexpected exception formatting exception. Falling back to standard exception\n"
     ]
    },
    {
     "name": "stderr",
     "output_type": "stream",
     "text": [
      "Traceback (most recent call last):\n",
      "  File \"fiona\\ogrext.pyx\", line 136, in fiona.ogrext.gdal_open_vector\n",
      "  File \"fiona\\_err.pyx\", line 291, in fiona._err.exc_wrap_pointer\n",
      "fiona._err.CPLE_OpenFailedError: '/Users/lukeshuo/Documents/GitHub/Altair/materials/europe-economy-visualization-master/data/europe.geojson' does not exist in the file system, and is not recognized as a supported dataset name.\n",
      "\n",
      "During handling of the above exception, another exception occurred:\n",
      "\n",
      "Traceback (most recent call last):\n",
      "  File \"D:\\Python\\Python310\\lib\\site-packages\\IPython\\core\\interactiveshell.py\", line 3460, in run_code\n",
      "    exec(code_obj, self.user_global_ns, self.user_ns)\n",
      "  File \"C:\\Users\\xhmyh\\AppData\\Local\\Temp\\ipykernel_3932\\1184628891.py\", line 2, in <module>\n",
      "    eu_data = gpd.read_file('/Users/lukeshuo/Documents/GitHub/Altair/materials/europe-economy-visualization-master/data/europe.geojson')\n",
      "  File \"D:\\Python\\Python310\\lib\\site-packages\\geopandas\\io\\file.py\", line 259, in _read_file\n",
      "    return _read_file_fiona(\n",
      "  File \"D:\\Python\\Python310\\lib\\site-packages\\geopandas\\io\\file.py\", line 303, in _read_file_fiona\n",
      "    with reader(path_or_bytes, **kwargs) as features:\n",
      "  File \"D:\\Python\\Python310\\lib\\site-packages\\fiona\\env.py\", line 457, in wrapper\n",
      "    return f(*args, **kwds)\n",
      "  File \"D:\\Python\\Python310\\lib\\site-packages\\fiona\\__init__.py\", line 352, in open\n",
      "    colxn = Collection(\n",
      "  File \"D:\\Python\\Python310\\lib\\site-packages\\fiona\\collection.py\", line 234, in __init__\n",
      "    self.session.start(self, **kwargs)\n",
      "  File \"fiona\\ogrext.pyx\", line 587, in fiona.ogrext.Session.start\n",
      "  File \"fiona\\ogrext.pyx\", line 143, in fiona.ogrext.gdal_open_vector\n",
      "fiona.errors.DriverError: '/Users/lukeshuo/Documents/GitHub/Altair/materials/europe-economy-visualization-master/data/europe.geojson' does not exist in the file system, and is not recognized as a supported dataset name.\n",
      "\n",
      "During handling of the above exception, another exception occurred:\n",
      "\n",
      "Traceback (most recent call last):\n",
      "  File \"D:\\Python\\Python310\\lib\\site-packages\\IPython\\core\\interactiveshell.py\", line 2057, in showtraceback\n",
      "    stb = self.InteractiveTB.structured_traceback(\n",
      "  File \"D:\\Python\\Python310\\lib\\site-packages\\IPython\\core\\ultratb.py\", line 1288, in structured_traceback\n",
      "    return FormattedTB.structured_traceback(\n",
      "  File \"D:\\Python\\Python310\\lib\\site-packages\\IPython\\core\\ultratb.py\", line 1177, in structured_traceback\n",
      "    return VerboseTB.structured_traceback(\n",
      "  File \"D:\\Python\\Python310\\lib\\site-packages\\IPython\\core\\ultratb.py\", line 1049, in structured_traceback\n",
      "    formatted_exceptions += self.format_exception_as_a_whole(etype, evalue, etb, lines_of_context,\n",
      "  File \"D:\\Python\\Python310\\lib\\site-packages\\IPython\\core\\ultratb.py\", line 935, in format_exception_as_a_whole\n",
      "    self.get_records(etb, number_of_lines_of_context, tb_offset) if etb else []\n",
      "  File \"D:\\Python\\Python310\\lib\\site-packages\\IPython\\core\\ultratb.py\", line 1003, in get_records\n",
      "    lines, first = inspect.getsourcelines(etb.tb_frame)\n",
      "  File \"D:\\Python\\Python310\\lib\\inspect.py\", line 1129, in getsourcelines\n",
      "    lines, lnum = findsource(object)\n",
      "  File \"D:\\Python\\Python310\\lib\\inspect.py\", line 958, in findsource\n",
      "    raise OSError('could not get source code')\n",
      "OSError: could not get source code\n"
     ]
    }
   ],
   "source": [
    "# load EU map data\n",
    "eu_data = gpd.read_file('/Users/lukeshuo/Documents/GitHub/Altair/materials/europe-economy-visualization-master/data/europe.geojson')"
   ],
   "metadata": {
    "collapsed": false
   }
  },
  {
   "cell_type": "code",
   "execution_count": null,
   "outputs": [],
   "source": [
    "alt.Chart(eu_data, width=1040, height=640).mark_geoshape().encode(\n",
    "    color = alt.condition('datum[\"Total Cases\"] != NaN', alt.Color('Total Cases:Q') ,alt.value('lightgray')),\n",
    "    tooltip = ['NAME', 'Active Cases:Q', 'Total Cases:Q','Total Deaths:Q','Total Recovered:Q'],\n",
    ").project(\n",
    "    'naturalEarth1'\n",
    ").transform_lookup(\n",
    "    lookup='NAME',\n",
    "    from_=alt.LookupData(data, 'Country', ['Active Cases','Total Cases','Total Deaths','Total Recovered'])\n",
    ")"
   ],
   "metadata": {
    "collapsed": false
   }
  }
 ],
 "metadata": {
  "kernelspec": {
   "display_name": "Python 3",
   "language": "python",
   "name": "python3"
  },
  "language_info": {
   "codemirror_mode": {
    "name": "ipython",
    "version": 2
   },
   "file_extension": ".py",
   "mimetype": "text/x-python",
   "name": "python",
   "nbconvert_exporter": "python",
   "pygments_lexer": "ipython2",
   "version": "2.7.6"
  }
 },
 "nbformat": 4,
 "nbformat_minor": 0
}
