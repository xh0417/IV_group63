{
 "cells": [
  {
   "cell_type": "code",
   "execution_count": 1,
   "metadata": {
    "collapsed": true
   },
   "outputs": [],
   "source": [
    "import pandas as pd\n",
    "import altair as alt\n",
    "url = 'https://raw.githubusercontent.com/xh0417/IV_group63/main/europe_covid.csv'\n",
    "data = pd.read_csv(url)"
   ]
  },
  {
   "cell_type": "code",
   "execution_count": 2,
   "metadata": {
    "collapsed": false
   },
   "outputs": [],
   "source": [
    "# Select the top 10 countries with the highest number of active cases\n",
    "attribute = ['Top-10 Active Cases', 'Top-10 Total Cases', 'Top-10 Total Deaths']\n",
    "\n",
    "top10_active = pd.DataFrame({\n",
    "    'Country': data.nlargest(10, 'Active Cases')['Country'],\n",
    "    'Value': data.nlargest(10, 'Active Cases')['Active Cases'],\n",
    "    'Attribute': 'Top-10 Active Cases'\n",
    "})\n",
    "\n",
    "top10_TotalCases = pd.DataFrame({\n",
    "    'Country': data.nlargest(10, 'Total Cases')['Country'],\n",
    "    'Value': data.nlargest(10, 'Total Cases')['Total Cases'],\n",
    "    'Attribute': 'Top-10 Total Cases'\n",
    "})\n",
    "\n",
    "top10_TotalDeaths = pd.DataFrame({\n",
    "    'Country': data.nlargest(10, 'Total Deaths')['Country'],\n",
    "    'Value': data.nlargest(10, 'Total Deaths')['Total Deaths'],\n",
    "    'Attribute': 'Top-10 Total Deaths'\n",
    "})\n",
    "all_stats = pd.concat([top10_active, top10_TotalCases, top10_TotalDeaths], axis=0)"
   ]
  },
  {
   "cell_type": "code",
   "execution_count": 3,
   "metadata": {
    "collapsed": false
   },
   "outputs": [],
   "source": [
    "def calPercent(data,names):\n",
    "    for i in names:\n",
    "        col_sum = data[i].sum()\n",
    "        result_data = data[i].apply(lambda x: x / col_sum)\n",
    "        data[i] = result_data\n",
    "    return data\n",
    "data = calPercent(data,[\"Total Cases\",\"Total Deaths\", \"Total Recovered\", \"Active Cases\", \"Tot Cases/ 1M pop\",\"Deaths/ 1M pop\",\"Total Tests\",\"Tests/ 1M pop\",\"Population\"])\n",
    "df = pd.melt(data, id_vars=[\"Country\"], value_vars=[\"Total Cases\",\"Total Deaths\",\"Total Recovered\",\"Active Cases\",\"Tot Cases/ 1M pop\",\"Deaths/ 1M pop\",\"Total Tests\",\"Tests/ 1M pop\",\"Population\"], var_name=\"attribute\", value_name=\"value\")"
   ]
  },
  {
   "cell_type": "code",
   "execution_count": 4,
   "metadata": {
    "collapsed": false
   },
   "outputs": [],
   "source": [
    "brush = alt.selection_single(\n",
    "    encodings=['y'],\n",
    "    on='mouseover'\n",
    ")\n",
    "selection = alt.selection_single(\n",
    "    name='Select',\n",
    "    fields=['Attribute'],\n",
    "    init={'Attribute': 'Top-10 Active Cases'},\n",
    "    bind={'Attribute': alt.binding_radio(options=attribute)}\n",
    ")"
   ]
  },
  {
   "cell_type": "code",
   "execution_count": 5,
   "metadata": {
    "collapsed": false
   },
   "outputs": [],
   "source": [
    "bars = alt.Chart().mark_bar().encode(\n",
    "    x='Value:Q',\n",
    "    y=alt.Y('Country:N', sort='-x'),\n",
    "    color=alt.Color(\"Country:N\")\n",
    ").properties(\n",
    "    width=400, height=300,\n",
    "    title='COVID-19 Statistics by Country'\n",
    ")\n",
    "# Filter the data based on the select box value\n",
    "bars_filtered = bars.transform_filter(\n",
    "    selection\n",
    ").properties(\n",
    "    title='COVID-19 Statistics by Country'\n",
    ")"
   ]
  },
  {
   "cell_type": "code",
   "execution_count": 6,
   "metadata": {
    "collapsed": false
   },
   "outputs": [],
   "source": [
    "# Combine the chart and data\n",
    "chart = alt.layer(\n",
    "    bars_filtered,\n",
    "    data=all_stats\n",
    ").add_selection(\n",
    "    selection,brush\n",
    ")\n",
    "\n",
    "chart2 = alt.Chart(df).mark_bar().encode(\n",
    "    x=alt.X(\"attribute:N\"),\n",
    "    y=alt.Y(\"value:Q\"),\n",
    "    color=alt.Color(\"Country:N\"),\n",
    "    opacity=alt.condition(brush, alt.value(0.75), alt.value(0.05))\n",
    ").properties(width=400, height=300)\n",
    "br1 = alt.hconcat(chart, chart2).properties(spacing=5)\n",
    "br1.save('brush_linking1.html')"
   ]
  }
 ],
 "metadata": {
  "kernelspec": {
   "display_name": "Python 3",
   "language": "python",
   "name": "python3"
  },
  "language_info": {
   "codemirror_mode": {
    "name": "ipython",
    "version": 3
   },
   "file_extension": ".py",
   "mimetype": "text/x-python",
   "name": "python",
   "nbconvert_exporter": "python",
   "pygments_lexer": "ipython3",
   "version": "3.10.4"
  }
 },
 "nbformat": 4,
 "nbformat_minor": 0
}
