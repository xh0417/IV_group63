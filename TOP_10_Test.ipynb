{
 "cells": [
  {
   "cell_type": "code",
   "execution_count": 31,
   "metadata": {
    "collapsed": true
   },
   "outputs": [],
   "source": [
    "import pandas as pd\n",
    "import altair as alt\n",
    "url = 'https://raw.githubusercontent.com/xh0417/IV_group63/main/europe_covid.csv'\n",
    "data = pd.read_csv(url)"
   ]
  },
  {
   "cell_type": "code",
   "execution_count": 32,
   "metadata": {
    "collapsed": false
   },
   "outputs": [],
   "source": [
    "# Select the top 10 countries with the highest number of active cases\n",
    "attribute = ['Top-10 Active Cases', 'Top-10 Total Cases', 'Top-10 Total Deaths']\n",
    "\n",
    "top10_active = pd.DataFrame({\n",
    "    'Country': data.nlargest(10, 'Active Cases')['Country'],\n",
    "    'Value': data.nlargest(10, 'Active Cases')['Active Cases'],\n",
    "    'Attribute': 'Top-10 Active Cases'\n",
    "})\n",
    "\n",
    "top10_TotalCases = pd.DataFrame({\n",
    "    'Country': data.nlargest(10, 'Total Cases')['Country'],\n",
    "    'Value': data.nlargest(10, 'Total Cases')['Total Cases'],\n",
    "    'Attribute': 'Top-10 Total Cases'\n",
    "})\n",
    "\n",
    "top10_TotalDeaths = pd.DataFrame({\n",
    "    'Country': data.nlargest(10, 'Total Deaths')['Country'],\n",
    "    'Value': data.nlargest(10, 'Total Deaths')['Total Deaths'],\n",
    "    'Attribute': 'Top-10 Total Deaths'\n",
    "})\n",
    "all_stats = pd.concat([top10_active, top10_TotalCases, top10_TotalDeaths], axis=0)"
   ]
  },
  {
   "cell_type": "code",
   "execution_count": 33,
   "metadata": {
    "collapsed": false
   },
   "outputs": [],
   "source": [
    "def normalize(x):\n",
    "    return x / max(x)\n",
    "data = pd.read_csv('https://raw.githubusercontent.com/xh0417/IV_group63/main/europe_covid.csv')\n",
    "data[\"Total Cases\"] = (data[\"Total Cases\"] - data[\"Total Cases\"].min()) / (data[\"Total Cases\"].max() - data[\"Total Cases\"].min())\n",
    "data[\"Total Deaths\"] = (data[\"Total Deaths\"] - data[\"Total Deaths\"].min()) / (data[\"Total Deaths\"].max() - data[\"Total Deaths\"].min())\n",
    "data[\"Total Recovered\"] = (data[\"Total Recovered\"] - data[\"Total Recovered\"].min()) / (data[\"Total Recovered\"].max() - data[\"Total Recovered\"].min())\n",
    "data[\"Active Cases\"] = (data[\"Active Cases\"] - data[\"Active Cases\"].min()) / (data[\"Active Cases\"].max() - data[\"Active Cases\"].min())\n",
    "data[\"Tot Cases/ 1M pop\"] = (data[\"Tot Cases/ 1M pop\"] - data[\"Tot Cases/ 1M pop\"].min()) / (data[\"Tot Cases/ 1M pop\"].max() - data[\"Tot Cases/ 1M pop\"].min())\n",
    "data[\"Deaths/ 1M pop\"] = (data[\"Deaths/ 1M pop\"] - data[\"Deaths/ 1M pop\"].min()) / (data[\"Deaths/ 1M pop\"].max() - data[\"Deaths/ 1M pop\"].min())\n",
    "data[\"Total Tests\"] = (data[\"Total Tests\"] - data[\"Total Tests\"].min()) / (data[\"Total Tests\"].max() - data[\"Total Tests\"].min())\n",
    "data[\"Tests/ 1M pop\"] = (data[\"Tests/ 1M pop\"] - data[\"Tests/ 1M pop\"].min()) / (data[\"Tests/ 1M pop\"].max() - data[\"Tests/ 1M pop\"].min())\n",
    "data[\"Population\"] = (data[\"Population\"] - data[\"Population\"].min()) / (data[\"Population\"].max() - data[\"Population\"].min())\n",
    "\n",
    "df = pd.melt(data, id_vars=[\"Country\"], value_vars=[\"Total Cases\",\"Total Deaths\",\"Total Recovered\",\"Active Cases\",\"Tot Cases/ 1M pop\",\"Deaths/ 1M pop\",\"Total Tests\",\"Tests/ 1M pop\",\"Population\"], var_name=\"x_axis\", value_name=\"value\")\n"
   ]
  },
  {
   "cell_type": "code",
   "execution_count": 34,
   "metadata": {
    "collapsed": false
   },
   "outputs": [],
   "source": [
    "#brush = alt.selection_interval(\n",
    "#    encodings=['y'] # limit selection to x-axis (year) values\n",
    "#)\n",
    "brush = alt.selection_single(\n",
    "    encodings=['y'],\n",
    "    on='mouseover'\n",
    ")"
   ]
  },
  {
   "cell_type": "code",
   "execution_count": 35,
   "metadata": {
    "collapsed": false
   },
   "outputs": [],
   "source": [
    "selection = alt.selection_single(\n",
    "    name='Select',\n",
    "    fields=['Attribute'],\n",
    "    init={'Attribute': 'Top-10 Active Cases'},\n",
    "    bind={'Attribute': alt.binding_radio(options=attribute)}\n",
    ")"
   ]
  },
  {
   "cell_type": "code",
   "execution_count": 36,
   "metadata": {
    "collapsed": false
   },
   "outputs": [],
   "source": [
    "bars = alt.Chart().mark_bar().encode(\n",
    "    x='Value:Q',\n",
    "    y=alt.Y('Country:N', sort='-x'),\n",
    "    color=alt.Color(\"Country:N\")\n",
    ").properties(\n",
    "    width=400, height=300,\n",
    "    title='COVID-19 Statistics by Country'\n",
    ")\n"
   ]
  },
  {
   "cell_type": "code",
   "execution_count": 37,
   "metadata": {
    "collapsed": false
   },
   "outputs": [],
   "source": [
    "# Filter the data based on the select box value\n",
    "bars_filtered = bars.transform_filter(\n",
    "    selection\n",
    ").properties(\n",
    "    title='COVID-19 Statistics by Country'\n",
    ")\n"
   ]
  },
  {
   "cell_type": "code",
   "execution_count": 38,
   "metadata": {
    "collapsed": false
   },
   "outputs": [],
   "source": [
    "# Combine the chart and data\n",
    "chart = alt.layer(\n",
    "    bars_filtered,\n",
    "    data=all_stats\n",
    ").add_selection(\n",
    "    selection,brush\n",
    ")\n",
    "\n",
    "chart2 = alt.Chart(df).mark_line().encode(\n",
    "    x=alt.X(\"x_axis:N\", sort=alt.EncodingSortField(field=\"index\", order=\"ascending\")),\n",
    "    y=alt.Y(\"value:Q\"),\n",
    "    color=alt.Color(\"Country:N\"),\n",
    "    opacity=alt.condition(brush, alt.value(0.75), alt.value(0.05))\n",
    ").properties(width=400, height=300)"
   ]
  },
  {
   "cell_type": "code",
   "execution_count": 39,
   "metadata": {
    "collapsed": false
   },
   "outputs": [],
   "source": [
    "br = alt.hconcat(chart, chart2).properties(spacing=5)\n",
    "br.save('bursh_linking2.html')"
   ]
  }
 ],
 "metadata": {
  "kernelspec": {
   "display_name": "Python 3",
   "language": "python",
   "name": "python3"
  },
  "language_info": {
   "codemirror_mode": {
    "name": "ipython",
    "version": 3
   },
   "file_extension": ".py",
   "mimetype": "text/x-python",
   "name": "python",
   "nbconvert_exporter": "python",
   "pygments_lexer": "ipython3",
   "version": "3.10.4"
  }
 },
 "nbformat": 4,
 "nbformat_minor": 0
}
